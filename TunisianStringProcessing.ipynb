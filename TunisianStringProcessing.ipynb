{
 "cells": [
  {
   "cell_type": "code",
   "execution_count": 9,
   "id": "a7f84542-f5d9-45ff-bdc9-a9433e41cde0",
   "metadata": {},
   "outputs": [],
   "source": [
    "def substring_ind(st,sb):\n",
    "    ind=-1\n",
    "    if(len(st)> 0 and len(sb)>0):\n",
    "        for i in range(0, len(st)):\n",
    "            if (st[i]== sb[0]):\n",
    "                if (verif(i,st, sb)!=-1):                    \n",
    "                    ind=i  \n",
    "                    break\n",
    "    return(ind) "
   ]
  },
  {
   "cell_type": "code",
   "execution_count": 3,
   "id": "002325b6-f33b-4422-ae40-bac22f7c3421",
   "metadata": {},
   "outputs": [],
   "source": [
    "def substring_ind_c(st,sb):\n",
    "    ind=-1\n",
    "    if(len(st)> 0 and len(sb)>0):\n",
    "        for i in range(0, len(st)):\n",
    "            if (st[i]== sb): \n",
    "                ind=i \n",
    "                break\n",
    "    return(ind) "
   ]
  },
  {
   "cell_type": "code",
   "execution_count": 5,
   "id": "fbdaedef-12bb-45a7-90e2-14d6f7ebbc7b",
   "metadata": {},
   "outputs": [],
   "source": [
    "def verif(x,st,substring):\n",
    "    trouve=True\n",
    "    i=0\n",
    "    ind=x\n",
    "    if(x<(len(st)-len(substring)+1)):\n",
    "        while (trouve and i<len(substring)):  \n",
    "            if (st[x]!= substring[i]):\n",
    "                trouve=False\n",
    "                ind=-1\n",
    "                break\n",
    "            else:                    \n",
    "                x+=1\n",
    "                i+=1  \n",
    "    else:\n",
    "        ind=-1\n",
    "    return ind"
   ]
  },
  {
   "cell_type": "code",
   "execution_count": 7,
   "id": "8c4b2154-4671-4833-92e6-c99d59c769fd",
   "metadata": {},
   "outputs": [],
   "source": [
    "def insert(x,st,substring):\n",
    "    ins=st[0:x]\n",
    "    ins+=substring\n",
    "    ins+=st[x:]\n",
    "    return ins"
   ]
  },
  {
   "cell_type": "code",
   "execution_count": null,
   "id": "dc7f620c-0c8d-43a7-b1ea-315f385209fe",
   "metadata": {},
   "outputs": [],
   "source": []
  },
  {
   "cell_type": "code",
   "execution_count": null,
   "id": "ac86fb8b-923d-495f-9c05-af9c247e80c7",
   "metadata": {},
   "outputs": [],
   "source": []
  }
 ],
 "metadata": {
  "kernelspec": {
   "display_name": "Python 3 (ipykernel)",
   "language": "python",
   "name": "python3"
  },
  "language_info": {
   "codemirror_mode": {
    "name": "ipython",
    "version": 3
   },
   "file_extension": ".py",
   "mimetype": "text/x-python",
   "name": "python",
   "nbconvert_exporter": "python",
   "pygments_lexer": "ipython3",
   "version": "3.10.13"
  }
 },
 "nbformat": 4,
 "nbformat_minor": 5
}
