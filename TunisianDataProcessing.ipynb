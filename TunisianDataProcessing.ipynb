{
 "cells": [
  {
   "cell_type": "markdown",
   "id": "20342acd-3557-4392-8321-7679f887ee8e",
   "metadata": {},
   "source": [
    "# Search in dataset"
   ]
  },
  {
   "cell_type": "code",
   "execution_count": 5,
   "id": "de6829d5-994d-4402-ac42-fec3c70edde5",
   "metadata": {},
   "outputs": [
    {
     "name": "stdout",
     "output_type": "stream",
     "text": [
      "importing Jupyter notebook from TunisianStringProcessing.ipynb\n"
     ]
    }
   ],
   "source": [
    "import json\n",
    "import import_ipynb\n",
    "from TunisianStringProcessing import *"
   ]
  },
  {
   "cell_type": "code",
   "execution_count": 6,
   "id": "9994d0d0-e3ac-4228-9752-e9ad3ff3233f",
   "metadata": {},
   "outputs": [],
   "source": [
    "def write_json(new_paragraph, filename):\n",
    "    with open(filename, \"r+\", encoding=\"utf-8\") as file:\n",
    "        file_content = json.load(file)\n",
    "        file_content[\"data\"].append(new_paragraph)                               \n",
    "        file.seek(0)\n",
    "        json.dump(file_content, file, indent=4, ensure_ascii=False)\n",
    "    print(\"SAVED IN FILE\")"
   ]
  },
  {
   "cell_type": "code",
   "execution_count": 7,
   "id": "cbf5ae53-5123-42bd-b407-0ebf659b654a",
   "metadata": {},
   "outputs": [],
   "source": [
    "def input_texts(context):  \n",
    "    texts=[]\n",
    "    for n in range(3):\n",
    "        try:\n",
    "            nb = int(input(\"Number of texts?\\n\"))\n",
    "            if nb > 0:\n",
    "                break\n",
    "            else:\n",
    "                print('No valid number met')\n",
    "                nb=0  \n",
    "        except ValueError:\n",
    "            print('No valid number met')\n",
    "            nb=0\n",
    "                    \n",
    "    for i in range(0, nb):\n",
    "        text=str(input(\"text\"+str(i+1)+\":\\n\"))\n",
    "        answer_start=substring_ind(context,text)\n",
    "        dict={\"answer_start\":answer_start, \"text\": text}\n",
    "        texts.append(dict)\n",
    "    return texts"
   ]
  },
  {
   "cell_type": "code",
   "execution_count": 8,
   "id": "eda0aa9d-e47c-4e6f-bdee-6ed841347399",
   "metadata": {},
   "outputs": [],
   "source": [
    "def input_questions(context, name):\n",
    "    qas=[]\n",
    "    for n in range(3):\n",
    "        try:\n",
    "            nb = int(input(\"Number of question-answers?\\n\"))\n",
    "            if nb > 0:\n",
    "                break\n",
    "            else:\n",
    "                print('No valid number met')\n",
    "                nb=0\n",
    "        except ValueError:\n",
    "            print('No valid number met')\n",
    "            nb=0\n",
    "    for i in range(0, nb):\n",
    "        id=str(nbQuestions(name)).zfill(5)  \n",
    "        question=str(input(\"question\"+str(i+1)+\":\\n\"))\n",
    "        answers=input_texts(context)\n",
    "        dict={\"answers\":answers, \"id\": id, \"question\":question}\n",
    "        qas.append(dict)\n",
    "    return qas"
   ]
  },
  {
   "cell_type": "code",
   "execution_count": 9,
   "id": "4622c0da-dc01-4e5f-a857-581a72e43de8",
   "metadata": {},
   "outputs": [],
   "source": [
    "def input_contexts(filename):\n",
    "    contexts=[]\n",
    "    for n in range(3):\n",
    "        try:\n",
    "            nb = int(input(\"Number of contexts?\\n\"))\n",
    "            if nb > 0:\n",
    "                break\n",
    "            else:\n",
    "                print('No valid number met')\n",
    "                nb=0\n",
    "        except ValueError:\n",
    "            print('No valid number met')\n",
    "            nb=0        \n",
    "    for i in range(0, nb):\n",
    "        context=str(input(\"Context\"+str(i+1)+\":\\n\"))\n",
    "        qas=input_questions(context,filename)\n",
    "        dict={\"context\":context, \"qas\": qas}\n",
    "        contexts.append(dict)                              \n",
    "    return contexts"
   ]
  },
  {
   "cell_type": "code",
   "execution_count": 10,
   "id": "a5ada014-2447-4c85-87a4-e493f809a59f",
   "metadata": {},
   "outputs": [],
   "source": [
    "def input_paragraphs(URL,filename):\n",
    "    paragraphs=[]\n",
    "    for n in range(3):\n",
    "        try:\n",
    "            nb = int(input(\"Number of paragraphs?\\n\"))\n",
    "            if nb > 0:\n",
    "                break\n",
    "            else:\n",
    "                print('No valid number met')\n",
    "                nb=0\n",
    "        except ValueError:\n",
    "            print('No valid number met')\n",
    "            nb=0               \n",
    "    for i in range(0, nb):\n",
    "        print(\"Paragraph\"+str(i+1)+\":\\n\")\n",
    "        paragraph=input_contexts(filename)\n",
    "        title=str(input(\"Title?\"))\n",
    "        dict={\"paragraphs\":paragraph, \"url\": URL, \"title\":title}\n",
    "        paragraphs.append(dict)                              \n",
    "    return paragraphs"
   ]
  },
  {
   "cell_type": "code",
   "execution_count": 11,
   "id": "f7f1e00b-e76d-4570-97aa-5c63d7e6e014",
   "metadata": {},
   "outputs": [],
   "source": [
    "def input_data():\n",
    "    data= input_pargraphs()\n",
    "    version=str(input(\"Data version:\\n\"))\n",
    "    dict={\"data\":data, \"version\":version}\n",
    "    return dict"
   ]
  },
  {
   "cell_type": "code",
   "execution_count": 12,
   "id": "5059889f-8cbd-4d5b-bdcd-6a68b553aa44",
   "metadata": {},
   "outputs": [],
   "source": [
    "def dataTitles(name):\n",
    "    q=[]\n",
    "    with open(name,\"r+\", encoding=\"utf-8\") as file:\n",
    "        data_file=repr(json.load(file))\n",
    "    ind= substring_ind(data_file, \"'title':\")   \n",
    "    if(ind!=-1):\n",
    "        str_search=data_file[(ind+len(\"'title':\")):]         \n",
    "        while(len(str_search)>0 ):\n",
    "            i=substring_ind_c(str_search,\"\\'\")\n",
    "            ii=substring_ind_c(str_search[i+1:],\"\\'\")\n",
    "            ii=ii+i+1\n",
    "            if(i!=-1):            \n",
    "                q.append(str_search[i+1:ii])\n",
    "                str_search=str_search[ii+1:]                 \n",
    "                ind=substring_ind(str_search,\"'title':\")                \n",
    "                if(ind!=-1):\n",
    "                    str_search=str_search[ind+len(\"'title':\"):]  \n",
    "                else:\n",
    "                    break\n",
    "    return q"
   ]
  },
  {
   "cell_type": "code",
   "execution_count": 13,
   "id": "6df15f60-d41e-440d-84a5-c55e1818b943",
   "metadata": {},
   "outputs": [],
   "source": [
    "#open jsondataset\n",
    "def openJson(name,m):\n",
    "    with open(name,m) as file:\n",
    "        dataset=json.load(file)\n",
    "    return dataset                     "
   ]
  },
  {
   "cell_type": "code",
   "execution_count": 14,
   "id": "b55e04d3-7c23-484a-b0f2-445bd0cfd9f4",
   "metadata": {},
   "outputs": [],
   "source": [
    "def dataQuestions(name):\n",
    "    q=[]\n",
    "    with open(name,\"r+\", encoding=\"utf-8\") as file:\n",
    "        data_file=repr(json.load(file))\n",
    "    ind= substring_ind(data_file, \"'question':\")  \n",
    "    if(ind!=-1):\n",
    "        str_search=data_file[(ind+len(\"'question':\")):]         \n",
    "        while(len(str_search)>0 ):\n",
    "            i=substring_ind_c(str_search,\"\\'\")\n",
    "            ii=substring_ind_c(str_search[i+1:],\"\\'\")\n",
    "            ii=ii+i+1\n",
    "            if(i!=-1):            \n",
    "                q.append(str_search[i+1:ii])\n",
    "                str_search=str_search[ii+1:]                 \n",
    "                ind=substring_ind(str_search,\"'question':\")                \n",
    "                if(ind!=-1):\n",
    "                    str_search=str_search[ind+len(\"'question':\"):]  \n",
    "                else:\n",
    "                    break\n",
    "    return q"
   ]
  },
  {
   "cell_type": "code",
   "execution_count": 15,
   "id": "3af25c52-433d-4205-8523-0ddb35285535",
   "metadata": {},
   "outputs": [],
   "source": [
    "def nbQuestions(name):\n",
    "    nb=0\n",
    "    with open(name, \"r+\", encoding=\"utf-8\") as file:\n",
    "        file_content = json.load(file)   \n",
    "        for d in file_content[\"data\"]:\n",
    "            for p in d[\"paragraphs\"]:                 \n",
    "                for q in p[\"qas\"]:\n",
    "                    nb+=1     \n",
    "    return nb"
   ]
  },
  {
   "cell_type": "code",
   "execution_count": 16,
   "id": "f4fa1eff-686c-4daa-8584-9e1b77a84814",
   "metadata": {},
   "outputs": [],
   "source": [
    "def nbContexts(name):\n",
    "    nb=0\n",
    "    with open(name, \"r+\", encoding=\"utf-8\") as file:\n",
    "        file_content = json.load(file)   \n",
    "        for d in file_content[\"data\"]:\n",
    "            for p in d[\"paragraphs\"]: \n",
    "                nb+=1                       \n",
    "    return nb"
   ]
  },
  {
   "cell_type": "code",
   "execution_count": 17,
   "id": "a9da31a3-eb1d-4180-8a4e-5ba16bdc8328",
   "metadata": {},
   "outputs": [],
   "source": [
    "def updateIdQuestions(name):\n",
    "    nb=0\n",
    "    with open(name, \"r+\", encoding=\"utf-8\") as file:\n",
    "        file_content = json.load(file)   \n",
    "        for d in file_content[\"data\"]:\n",
    "            for p in d[\"paragraphs\"]:                 \n",
    "                for q in p[\"qas\"]:\n",
    "                    nb+=1\n",
    "                    q.update({\"id\":str(nb).zfill(5)})  \n",
    "        file.seek(0)\n",
    "        json.dump(file_content, file, indent=4, ensure_ascii=False)\n",
    "    print(\"FILE UPDATED\")"
   ]
  },
  {
   "cell_type": "code",
   "execution_count": 18,
   "id": "36dc9c5b-8b51-431a-83c4-62d4d2ddbe49",
   "metadata": {},
   "outputs": [
    {
     "name": "stdout",
     "output_type": "stream",
     "text": [
      "FILE UPDATED\n",
      "FILE UPDATED\n",
      "FILE UPDATED\n",
      "FILE UPDATED\n"
     ]
    }
   ],
   "source": [
    "files=[\"datasets/webscrap_receipdata.json\",\"datasets/webscrap_healthdata.json\",\"datasets/transcription_receipdata.json\",\"datasets/transcription_healthdata.json\"]\n",
    "for f in files:\n",
    "    updateIdQuestions(f)"
   ]
  },
  {
   "cell_type": "code",
   "execution_count": 19,
   "id": "48fb0bd5-70c1-470c-badb-14191104a21b",
   "metadata": {},
   "outputs": [
    {
     "data": {
      "text/plain": [
       "149"
      ]
     },
     "execution_count": 19,
     "metadata": {},
     "output_type": "execute_result"
    }
   ],
   "source": [
    "nbQuestions(\"datasets/webscrap_healthdata.json\")"
   ]
  },
  {
   "cell_type": "code",
   "execution_count": 20,
   "id": "ac5e15ac-fae0-4d62-acd2-7cd68dc28d3d",
   "metadata": {},
   "outputs": [
    {
     "data": {
      "text/plain": [
       "66"
      ]
     },
     "execution_count": 20,
     "metadata": {},
     "output_type": "execute_result"
    }
   ],
   "source": [
    "nbContexts(\"datasets/webscrap_receipdata.json\")"
   ]
  },
  {
   "cell_type": "code",
   "execution_count": 21,
   "id": "40a4aa5a-558d-4db1-8d22-29a6b13a47ad",
   "metadata": {},
   "outputs": [],
   "source": [
    "def updateAnswerStart(name):\n",
    "    with open(name, \"r+\", encoding=\"utf-8\") as file:\n",
    "        file_content = json.load(file)   \n",
    "        for d in file_content[\"data\"]:\n",
    "            for p in d[\"paragraphs\"]: \n",
    "                st=p[\"context\"]\n",
    "                for q in p[\"qas\"]:\n",
    "                    for a in q[\"answers\"]: \n",
    "                        sb=a[\"text\"]\n",
    "                        a.update({\"answer_start\":substring_ind(st,sb)})   \n",
    "        file.seek(0)\n",
    "        json.dump(file_content, file, indent=4, ensure_ascii=False)\n",
    "    print(\"FILE UPDATED\")\n"
   ]
  },
  {
   "cell_type": "code",
   "execution_count": 22,
   "id": "eaffda77-e9d7-48c9-aa7c-a68ca2c6bb00",
   "metadata": {},
   "outputs": [
    {
     "name": "stdout",
     "output_type": "stream",
     "text": [
      "FILE UPDATED\n",
      "FILE UPDATED\n",
      "FILE UPDATED\n",
      "FILE UPDATED\n"
     ]
    }
   ],
   "source": [
    "files=[\"datasets/webscrap_receipdata.json\",\"datasets/webscrap_healthdata.json\",\"datasets/transcription_receipdata.json\",\"datasets/transcription_healthdata.json\"]\n",
    "for f in files:\n",
    "    updateAnswerStart(f)"
   ]
  },
  {
   "cell_type": "code",
   "execution_count": 37,
   "id": "01769c83-6057-4f12-a61f-16044d3939b7",
   "metadata": {},
   "outputs": [],
   "source": [
    "def data_preparation_split(files,split):\n",
    "    data_train={\"data\":[], \"version\":\"2024\"}\n",
    "    data_test={\"data\":[], \"version\":\"2024\"} \n",
    "    data_val={\"data\":[], \"version\":\"2024\"} \n",
    "    nbq=0 \n",
    "    x=True\n",
    "    for f in files:\n",
    "        with open(f, \"r+\", encoding=\"utf-8\") as file:\n",
    "            file_content = json.load(file)\n",
    "            n=nbQuestions(f)\n",
    "            t=n*split\n",
    "            nb=0\n",
    "            for d in file_content[\"data\"]:\n",
    "                for p in d[\"paragraphs\"]:              \n",
    "                    for q in p[\"qas\"]:\n",
    "                        nbq+=1 \n",
    "                        nb+=1\n",
    "                        q.update({\"id\":str(nbq).zfill(5)})\n",
    "                if(nb<t):\n",
    "                    data_train[\"data\"].append(d) \n",
    "                else:                  \n",
    "                    if(x==True):\n",
    "                        data_test[\"data\"].append(d) \n",
    "                        x=False\n",
    "                    else:\n",
    "                        data_val[\"data\"].append(d)\n",
    "                        x=True\n",
    "                    \n",
    "    jsonString1 = json.dumps(data_train, indent=4, ensure_ascii=False)\n",
    "    jsonFile1 = open(\"datasets/train.json\", \"w\", encoding=\"utf-8\")\n",
    "    jsonFile1.write(jsonString1)\n",
    "    jsonFile1.close()\n",
    "    jsonString2 = json.dumps(data_test, indent=4, ensure_ascii=False)\n",
    "    jsonFile2 = open(\"datasets/test.json\", \"w\", encoding=\"utf-8\")\n",
    "    jsonFile2.write(jsonString2)\n",
    "    jsonFile2.close()\n",
    "    jsonString3 = json.dumps(data_val, indent=4, ensure_ascii=False)\n",
    "    jsonFile3 = open(\"datasets/val.json\", \"w\", encoding=\"utf-8\")\n",
    "    jsonFile3.write(jsonString3)\n",
    "    jsonFile3.close()\n",
    "    print(\"Train, test and valid dataset ready\")"
   ]
  },
  {
   "cell_type": "code",
   "execution_count": 36,
   "id": "6c2fbe3f-3482-4e7d-98f2-25af3a67fd6f",
   "metadata": {},
   "outputs": [],
   "source": [
    "def data_preparation(files):\n",
    "    data={\"data\":[], \"version\":\"2024\"}\n",
    "    nbq=0 \n",
    "    for f in files:\n",
    "        with open(f, \"r+\", encoding=\"utf-8\") as file:\n",
    "            file_content = json.load(file)\n",
    "            n=nbQuestions(f)\n",
    "            nb=0\n",
    "            for d in file_content[\"data\"]:\n",
    "                for p in d[\"paragraphs\"]:              \n",
    "                    for q in p[\"qas\"]:\n",
    "                        nbq+=1 \n",
    "                        nb+=1\n",
    "                        q.update({\"id\":str(nbq).zfill(5)})\n",
    "                data[\"data\"].append(d) \n",
    "  \n",
    "    jsonString = json.dumps(data, indent=4, ensure_ascii=False)\n",
    "    jsonFile = open(\"datasets/nadiakarmani_data.json\", \"w\", encoding=\"utf-8\")\n",
    "    jsonFile.write(jsonString)\n",
    "    jsonFile.close()\n",
    "    \n",
    "    print(\"dataset ready\")"
   ]
  },
  {
   "cell_type": "code",
   "execution_count": 38,
   "id": "d572eee0-5360-4540-9c01-f1ff9ef19e6d",
   "metadata": {},
   "outputs": [
    {
     "name": "stdout",
     "output_type": "stream",
     "text": [
      "Train, test and valid dataset ready\n"
     ]
    }
   ],
   "source": [
    "files=[\"datasets/webscrap_receipdata.json\",\"datasets/transcription_receipdata.json\",\"datasets/webscrap_healthdata.json\",\"datasets/transcription_healthdata.json\"]\n",
    "data_preparation_split(files,0.8)"
   ]
  },
  {
   "cell_type": "code",
   "execution_count": 39,
   "id": "2f96674d-b06e-4a13-9564-30708467cd9b",
   "metadata": {},
   "outputs": [
    {
     "data": {
      "text/plain": [
       "348"
      ]
     },
     "execution_count": 39,
     "metadata": {},
     "output_type": "execute_result"
    }
   ],
   "source": [
    "nbQuestions(\"datasets/train.json\")"
   ]
  },
  {
   "cell_type": "code",
   "execution_count": 40,
   "id": "8cc2074b-b4da-4869-adaf-dca4913c5cae",
   "metadata": {},
   "outputs": [
    {
     "data": {
      "text/plain": [
       "55"
      ]
     },
     "execution_count": 40,
     "metadata": {},
     "output_type": "execute_result"
    }
   ],
   "source": [
    "nbQuestions(\"datasets/test.json\")"
   ]
  },
  {
   "cell_type": "code",
   "execution_count": 41,
   "id": "8994b642-cb4c-4e9e-9433-4184f1cd5935",
   "metadata": {},
   "outputs": [
    {
     "data": {
      "text/plain": [
       "127"
      ]
     },
     "execution_count": 41,
     "metadata": {},
     "output_type": "execute_result"
    }
   ],
   "source": [
    "nbQuestions(\"datasets/val.json\")"
   ]
  },
  {
   "cell_type": "code",
   "execution_count": 42,
   "id": "a8a22f6f-80d4-46cf-a4eb-b1e0d4671dcb",
   "metadata": {},
   "outputs": [
    {
     "data": {
      "text/plain": [
       "112"
      ]
     },
     "execution_count": 42,
     "metadata": {},
     "output_type": "execute_result"
    }
   ],
   "source": [
    "nbContexts(\"datasets/train.json\")"
   ]
  },
  {
   "cell_type": "code",
   "execution_count": 43,
   "id": "e70493af-0c9f-4916-9523-fcd00a470a1c",
   "metadata": {},
   "outputs": [
    {
     "data": {
      "text/plain": [
       "21"
      ]
     },
     "execution_count": 43,
     "metadata": {},
     "output_type": "execute_result"
    }
   ],
   "source": [
    "nbContexts(\"datasets/test.json\")"
   ]
  },
  {
   "cell_type": "code",
   "execution_count": 44,
   "id": "fefd6d58-da83-4733-8c1a-dcc2ef71f26a",
   "metadata": {},
   "outputs": [
    {
     "data": {
      "text/plain": [
       "34"
      ]
     },
     "execution_count": 44,
     "metadata": {},
     "output_type": "execute_result"
    }
   ],
   "source": [
    "nbContexts(\"datasets/val.json\")"
   ]
  },
  {
   "cell_type": "code",
   "execution_count": null,
   "id": "107df3cc-2b35-42c9-90d9-bd4ef60ae396",
   "metadata": {},
   "outputs": [],
   "source": []
  }
 ],
 "metadata": {
  "kernelspec": {
   "display_name": "Python 3 (ipykernel)",
   "language": "python",
   "name": "python3"
  },
  "language_info": {
   "codemirror_mode": {
    "name": "ipython",
    "version": 3
   },
   "file_extension": ".py",
   "mimetype": "text/x-python",
   "name": "python",
   "nbconvert_exporter": "python",
   "pygments_lexer": "ipython3",
   "version": "3.10.13"
  }
 },
 "nbformat": 4,
 "nbformat_minor": 5
}
